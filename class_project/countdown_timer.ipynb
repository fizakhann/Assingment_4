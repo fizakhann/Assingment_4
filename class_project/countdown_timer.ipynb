{
  "nbformat": 4,
  "nbformat_minor": 0,
  "metadata": {
    "colab": {
      "provenance": [],
      "authorship_tag": "ABX9TyP1XKclMCVIbnjLdgRd7ito",
      "include_colab_link": true
    },
    "kernelspec": {
      "name": "python3",
      "display_name": "Python 3"
    },
    "language_info": {
      "name": "python"
    }
  },
  "cells": [
    {
      "cell_type": "markdown",
      "metadata": {
        "id": "view-in-github",
        "colab_type": "text"
      },
      "source": [
        "<a href=\"https://colab.research.google.com/github/fizakhann/Assignments-1-to-6-python/blob/main/countdown_timer.ipynb\" target=\"_parent\"><img src=\"https://colab.research.google.com/assets/colab-badge.svg\" alt=\"Open In Colab\"/></a>"
      ]
    },
    {
      "cell_type": "code",
      "source": [
        "import time\n",
        "\n",
        "def countdown_timer():\n",
        "    t = int(input(\"Enter time in seconds: \"))\n",
        "\n",
        "    while t > 0:\n",
        "        mins, secs = divmod(t, 60)\n",
        "        timer = '{:02d}:{:02d}'.format(mins, secs)\n",
        "        print(timer)  # ← shows on new line every second\n",
        "        time.sleep(1)\n",
        "        t -= 1\n",
        "\n",
        "    print(\"Time's up! ⏰\")\n",
        "\n",
        "countdown_timer()\n",
        "\n",
        "\n",
        "\n",
        "\n"
      ],
      "metadata": {
        "id": "AXd1jAZFkE1I"
      },
      "execution_count": null,
      "outputs": []
    }
  ]
}