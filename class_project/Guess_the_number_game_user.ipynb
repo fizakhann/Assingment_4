{
  "nbformat": 4,
  "nbformat_minor": 0,
  "metadata": {
    "colab": {
      "provenance": [],
      "authorship_tag": "ABX9TyNiU0iHSSc2uR5XA4EyQ4TM",
      "include_colab_link": true
    },
    "kernelspec": {
      "name": "python3",
      "display_name": "Python 3"
    },
    "language_info": {
      "name": "python"
    }
  },
  "cells": [
    {
      "cell_type": "markdown",
      "metadata": {
        "id": "view-in-github",
        "colab_type": "text"
      },
      "source": [
        "<a href=\"https://colab.research.google.com/github/fizakhann/Assignments-1-to-6-python/blob/main/Guess_the_number_game_user.ipynb\" target=\"_parent\"><img src=\"https://colab.research.google.com/assets/colab-badge.svg\" alt=\"Open In Colab\"/></a>"
      ]
    },
    {
      "cell_type": "markdown",
      "source": [
        "# Guess the Number Game Python Project (User)\n"
      ],
      "metadata": {
        "id": "hxf8LE2FW7F3"
      }
    },
    {
      "cell_type": "code",
      "source": [
        "import random\n",
        "\n",
        "number = random.randint(1, 20)\n",
        "print(\"Welcome to Guess the Number Game!\")\n",
        "print(\"I'm thinking of a number between 1 and 20.\")\n",
        "\n",
        "while True:\n",
        "    guess = int(input(\"Take a guess: \"))\n",
        "\n",
        "    if guess < number:\n",
        "        print(\"Too low! Try again.\")\n",
        "    elif guess > number:\n",
        "        print(\"Too high! Try again.\")\n",
        "    else:\n",
        "        print(\"Correct! You guessed the number.\")\n",
        "        break\n"
      ],
      "metadata": {
        "id": "AXd1jAZFkE1I"
      },
      "execution_count": null,
      "outputs": []
    }
  ]
}