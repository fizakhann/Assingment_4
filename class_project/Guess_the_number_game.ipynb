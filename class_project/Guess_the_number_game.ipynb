{
  "nbformat": 4,
  "nbformat_minor": 0,
  "metadata": {
    "colab": {
      "provenance": [],
      "authorship_tag": "ABX9TyNgjGwGSyY03RiETAAkhbPA",
      "include_colab_link": true
    },
    "kernelspec": {
      "name": "python3",
      "display_name": "Python 3"
    },
    "language_info": {
      "name": "python"
    }
  },
  "cells": [
    {
      "cell_type": "markdown",
      "metadata": {
        "id": "view-in-github",
        "colab_type": "text"
      },
      "source": [
        "<a href=\"https://colab.research.google.com/github/fizakhann/Assignments-1-to-6-python/blob/main/Guess_the_number_game.ipynb\" target=\"_parent\"><img src=\"https://colab.research.google.com/assets/colab-badge.svg\" alt=\"Open In Colab\"/></a>"
      ]
    },
    {
      "cell_type": "markdown",
      "source": [
        "Guess the Number Game Python Project (computer)\n"
      ],
      "metadata": {
        "id": "hxf8LE2FW7F3"
      }
    },
    {
      "cell_type": "code",
      "execution_count": null,
      "metadata": {
        "id": "DHRSG8jhMciv"
      },
      "outputs": [],
      "source": [
        "\n",
        "import random\n",
        "\n",
        "print(\"🎯 Guess the Number Game\")\n",
        "print(\"I'm thinking of a number between 1 and 20... 🤔\")\n",
        "\n",
        "# Random number\n",
        "number = random.randint(1, 20)\n",
        "attempts = 0\n",
        "\n",
        "while True:\n",
        "    guess = input(\"🔢 Enter your guess: \")\n",
        "\n",
        "    if not guess.isdigit():\n",
        "        print(\"❗ Please enter a valid number!\")\n",
        "        continue\n",
        "\n",
        "    guess = int(guess)\n",
        "    attempts += 1\n",
        "\n",
        "    if guess < number:\n",
        "        print(\"⬆️ Too low!\")\n",
        "    elif guess > number:\n",
        "        print(\"⬇️ Too high!\")\n",
        "    else:\n",
        "        print(f\"🎉 Correct! You guessed it in {attempts} tries!\")\n",
        "        break\n",
        "\n"
      ]
    }
  ]
}