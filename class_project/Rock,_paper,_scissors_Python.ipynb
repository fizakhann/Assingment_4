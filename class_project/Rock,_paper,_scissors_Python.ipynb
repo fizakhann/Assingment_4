{
  "nbformat": 4,
  "nbformat_minor": 0,
  "metadata": {
    "colab": {
      "provenance": [],
      "authorship_tag": "ABX9TyPm4jz7uxpzb4DHGr09Xewz",
      "include_colab_link": true
    },
    "kernelspec": {
      "name": "python3",
      "display_name": "Python 3"
    },
    "language_info": {
      "name": "python"
    }
  },
  "cells": [
    {
      "cell_type": "markdown",
      "metadata": {
        "id": "view-in-github",
        "colab_type": "text"
      },
      "source": [
        "<a href=\"https://colab.research.google.com/github/fizakhann/Assignments-1-to-6-python/blob/main/Rock%2C_paper%2C_scissors_Python.ipynb\" target=\"_parent\"><img src=\"https://colab.research.google.com/assets/colab-badge.svg\" alt=\"Open In Colab\"/></a>"
      ]
    },
    {
      "cell_type": "code",
      "source": [
        "import random\n",
        "\n",
        "def play():\n",
        "    user = input(\"Choose rock, paper, or scissors: \").lower()\n",
        "    computer = random.choice(['rock', 'paper', 'scissors'])\n",
        "\n",
        "    print(f\"\\nYou chose {user}\")\n",
        "    print(f\"Computer chose {computer}\\n\")\n",
        "\n",
        "    if user == computer:\n",
        "        print(\"It's a tie!\")\n",
        "    elif is_win(user, computer):\n",
        "        print(\"You won!\")\n",
        "    else:\n",
        "        print(\"You lost!\")\n",
        "\n",
        "def is_win(player, opponent):\n",
        "    return (\n",
        "        (player == 'rock' and opponent == 'scissors') or\n",
        "        (player == 'scissors' and opponent == 'paper') or\n",
        "        (player == 'paper' and opponent == 'rock')\n",
        "    )\n",
        "\n",
        "\n",
        "while True:\n",
        "    play()\n",
        "    again = input(\"\\nDo you want to play again? (yes/no): \").lower()\n",
        "    if again != \"yes\":\n",
        "        print(\"Thanks for playing! 👋\")\n",
        "        break\n",
        "\n",
        "\n"
      ],
      "metadata": {
        "id": "AXd1jAZFkE1I"
      },
      "execution_count": null,
      "outputs": []
    }
  ]
}