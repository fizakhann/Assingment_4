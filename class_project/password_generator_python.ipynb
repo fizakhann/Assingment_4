{
  "nbformat": 4,
  "nbformat_minor": 0,
  "metadata": {
    "colab": {
      "provenance": [],
      "authorship_tag": "ABX9TyOdH2K16holl5b42xRQcZK2",
      "include_colab_link": true
    },
    "kernelspec": {
      "name": "python3",
      "display_name": "Python 3"
    },
    "language_info": {
      "name": "python"
    }
  },
  "cells": [
    {
      "cell_type": "markdown",
      "metadata": {
        "id": "view-in-github",
        "colab_type": "text"
      },
      "source": [
        "<a href=\"https://colab.research.google.com/github/fizakhann/Assignments-1-to-6-python/blob/main/password_generator_python.ipynb\" target=\"_parent\"><img src=\"https://colab.research.google.com/assets/colab-badge.svg\" alt=\"Open In Colab\"/></a>"
      ]
    },
    {
      "cell_type": "code",
      "source": [
        "import string\n",
        "import random\n",
        "\n",
        "def check_password(password):\n",
        "    if len(password) != 8:\n",
        "        return False, \"❌ Password should be exactly 8 characters long.\"\n",
        "\n",
        "    has_upper = any(c.isupper() for c in password)\n",
        "    has_lower = any(c.islower() for c in password)\n",
        "    has_digit = any(c.isdigit() for c in password)\n",
        "    has_symbol = any(c in string.punctuation for c in password)\n",
        "\n",
        "    if all([has_upper, has_lower, has_digit, has_symbol]):\n",
        "        return True, \"✅ Correct password!\"\n",
        "    else:\n",
        "        missing = []\n",
        "        if not has_upper:\n",
        "            missing.append(\"an uppercase letter\")\n",
        "        if not has_lower:\n",
        "            missing.append(\"a lowercase letter\")\n",
        "        if not has_digit:\n",
        "            missing.append(\"a number\")\n",
        "        if not has_symbol:\n",
        "            missing.append(\"a symbol (e.g. @, #, $, !)\")\n",
        "        return False, \"❌ Missing: \" + \", \".join(missing)\n",
        "\n",
        "def generate_password():\n",
        "    upper = random.choice(string.ascii_uppercase)\n",
        "    lower = random.choice(string.ascii_lowercase)\n",
        "    digit = random.choice(string.digits)\n",
        "    symbol = random.choice(string.punctuation)\n",
        "\n",
        "    all_chars = string.ascii_letters + string.digits + string.punctuation\n",
        "    remaining = [random.choice(all_chars) for _ in range(4)]\n",
        "\n",
        "    password_list = list(upper + lower + digit + symbol + ''.join(remaining))\n",
        "    random.shuffle(password_list)\n",
        "    return ''.join(password_list)\n",
        "\n",
        "\n",
        "while True:\n",
        "    user_input = input(\"Enter your 8-character password: \")\n",
        "    is_valid, message = check_password(user_input)\n",
        "    print(message)\n",
        "\n",
        "    if is_valid:\n",
        "        break\n",
        "    else:\n",
        "        print(\"🔁 Try again or use this strong password:\")\n",
        "        print(\"🔐 Example: \", generate_password())\n",
        "        print()\n"
      ],
      "metadata": {
        "id": "aYcVJAOFhEcK"
      },
      "execution_count": null,
      "outputs": []
    }
  ]
}