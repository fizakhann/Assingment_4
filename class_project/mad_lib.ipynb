{
  "nbformat": 4,
  "nbformat_minor": 0,
  "metadata": {
    "colab": {
      "provenance": [],
      "authorship_tag": "ABX9TyPgnQmaL9+d6jNnMjvkTVVT",
      "include_colab_link": true
    },
    "kernelspec": {
      "name": "python3",
      "display_name": "Python 3"
    },
    "language_info": {
      "name": "python"
    }
  },
  "cells": [
    {
      "cell_type": "markdown",
      "metadata": {
        "id": "view-in-github",
        "colab_type": "text"
      },
      "source": [
        "<a href=\"https://colab.research.google.com/github/fizakhann/Assignments-1-to-6-python/blob/main/mad_lib.ipynb\" target=\"_parent\"><img src=\"https://colab.research.google.com/assets/colab-badge.svg\" alt=\"Open In Colab\"/></a>"
      ]
    },
    {
      "cell_type": "code",
      "execution_count": 1,
      "metadata": {
        "colab": {
          "base_uri": "https://localhost:8080/"
        },
        "id": "DHRSG8jhMciv",
        "outputId": "fdbd5608-bc01-4afa-e8a4-9986f27aedc9"
      },
      "outputs": [
        {
          "output_type": "stream",
          "name": "stdout",
          "text": [
            "Welcome to Mad Libs!\n",
            "Enter a name: fiza\n",
            "Enter a place: karachi\n",
            "Enter an animal: horse\n",
            "Enter a verb: jumping\n",
            "\n",
            "Your Mad Libs Story:\n",
            "\n",
            "One day, fiza went to the karachi and saw a horse who loved to jumping all day.\n"
          ]
        }
      ],
      "source": [
        "\n",
        "\n",
        "print(\"Welcome to Mad Libs!\")\n",
        "\n",
        "# User inputs\n",
        "name = input(\"Enter a name: \")\n",
        "place = input(\"Enter a place: \")\n",
        "animal = input(\"Enter an animal: \")\n",
        "verb = input(\"Enter a verb: \")\n",
        "\n",
        "# Story\n",
        "story = f\"\\nOne day, {name} went to the {place} and saw a {animal} who loved to {verb} all day.\"\n",
        "\n",
        "# Output\n",
        "print(\"\\nYour Mad Libs Story:\")\n",
        "print(story)\n"
      ]
    }
  ]
}