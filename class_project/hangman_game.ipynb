{
  "nbformat": 4,
  "nbformat_minor": 0,
  "metadata": {
    "colab": {
      "provenance": [],
      "authorship_tag": "ABX9TyP6DHA140CJzbUGZ/6IrbeG",
      "include_colab_link": true
    },
    "kernelspec": {
      "name": "python3",
      "display_name": "Python 3"
    },
    "language_info": {
      "name": "python"
    }
  },
  "cells": [
    {
      "cell_type": "markdown",
      "metadata": {
        "id": "view-in-github",
        "colab_type": "text"
      },
      "source": [
        "<a href=\"https://colab.research.google.com/github/fizakhann/Assignments-1-to-6-python/blob/main/hangman_game.ipynb\" target=\"_parent\"><img src=\"https://colab.research.google.com/assets/colab-badge.svg\" alt=\"Open In Colab\"/></a>"
      ]
    },
    {
      "cell_type": "code",
      "source": [
        "import random\n",
        "\n",
        "# Programming-related words\n",
        "words = ['python', 'typescript', 'function', 'programming', 'loop', 'variable', 'string', 'boolean', 'class', 'object']\n",
        "word = random.choice(words)\n",
        "word_letters = set(word)\n",
        "guessed_letters = set()\n",
        "lives = 6\n",
        "\n",
        "print(\"Welcome to Programming Hangman!\")\n",
        "print(\"Hint: All words are related to coding/programming.\\n\")\n",
        "\n",
        "while len(word_letters) > 0 and lives > 0:\n",
        "    print(\"You have\", lives, \"lives left.\")\n",
        "    print(\"Guessed letters:\", ' '.join(sorted(guessed_letters)))\n",
        "\n",
        "    display_word = [letter if letter in guessed_letters else '_' for letter in word]\n",
        "    print(\"Current word:\", ' '.join(display_word))\n",
        "\n",
        "    guess = input(\"Guess a letter: \").lower()\n",
        "\n",
        "    if guess in guessed_letters:\n",
        "        print(\"You already guessed that letter.\")\n",
        "    elif guess in word_letters:\n",
        "        guessed_letters.add(guess)\n",
        "        word_letters.remove(guess)\n",
        "        print(\"Good guess!\")\n",
        "    else:\n",
        "        guessed_letters.add(guess)\n",
        "        lives -= 1\n",
        "        print(\"Wrong guess.\")\n",
        "\n",
        "    print(\"-\" * 30)\n",
        "\n",
        "# Final Result\n",
        "if lives == 0:\n",
        "    print(f\"\\nYou lost! The word was: {word}\")\n",
        "else:\n",
        "    print(f\"\\nCongratulations! You guessed the word: {word}\")\n",
        "\n",
        "\n"
      ],
      "metadata": {
        "id": "AXd1jAZFkE1I"
      },
      "execution_count": null,
      "outputs": []
    }
  ]
}